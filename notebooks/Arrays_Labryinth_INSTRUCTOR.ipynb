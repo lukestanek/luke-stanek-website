{
 "cells": [
  {
   "cell_type": "markdown",
   "metadata": {},
   "source": [
    "# __CMSE  201 - Spring 2018__\n",
    "\n",
    "<img src=\"https://cmse.msu.edu/_cmse/assets/Image/CMSE-bigger.png\"\n",
    "     alt=\"CMSE Grapical Image\"\n",
    "     style=\"float: right; margin-right: 10px; \n",
    "     height=\"82\" \n",
    "     width=\"82\"\" />\n",
    "\n",
    "# Python Bootcamp: Practice with Indexing and 2D Arrays\n",
    "\n",
    "\n",
    "<img src=\"https://nerdist.com/wp-content/uploads/2016/06/Indiana-Jones-Raiders-Babay.jpg\" alt= \"Indiana Jones Looking at Golden Idol\" width=400px>\n",
    "___"
   ]
  },
  {
   "cell_type": "markdown",
   "metadata": {},
   "source": [
    "# Introduction\n",
    "\n",
    "In this notebook, we will be reviewing some concepts related with indexing 2D numpy arrays and reviewing the Von Neumann neighborhood by means of example.\n",
    "\n",
    "## What is in this notebook?\n",
    "\n",
    "* Part 1: General array manipluation including slicing and other concepts related to indexing\n",
    "* Part 2: Review of Von Neumann Neighborhood and a slight modification\n",
    "* Part 3: Example of working with 2D arrays and using the Von Neumann Neighborhood\n",
    "\n",
    "__**Feel free to skip around if there are things youre already comfortable with**__\n",
    "\n",
    "---\n"
   ]
  },
  {
   "cell_type": "code",
   "execution_count": 1,
   "metadata": {},
   "outputs": [],
   "source": [
    "# Import modules\n",
    "import numpy as np\n",
    "import matplotlib.pyplot as plt\n",
    "%matplotlib inline"
   ]
  },
  {
   "cell_type": "markdown",
   "metadata": {},
   "source": [
    "# Part 1: Indexing Arrays\n",
    "\n",
    "In part 1, we will revisit some concepts related to indexing arrays and working with subsets of 2D arrays. Note that this was taken and modified from the Day-12 Pre-Class. Refer back to that notebook for more details. \n",
    "\n",
    "\n",
    "---\n",
    "\n",
    "## Array creation and basic properties \n",
    "\n",
    "### Creating arrays\n",
    "The line below creates an 8x10 array of zeros called ```my_array```.  Note that you can do this with any numpy array method (```ones```, ```zeros_like```, ```ones_like```, etc.).  See [this page](http://docs.scipy.org/doc/numpy/reference/routines.array-creation.html) for a full list of routines for array creation.  You can also specify the array data type (float, int, etc.) by using the `dtype` argument, i.e., `dtype='float'` or `dtype='int'`.  By default, Numpy creates arrays of floating-point numbers."
   ]
  },
  {
   "cell_type": "code",
   "execution_count": 2,
   "metadata": {},
   "outputs": [
    {
     "name": "stdout",
     "output_type": "stream",
     "text": [
      "new array:\n",
      " [[0 0 0 0 0 0 0 0 0 0]\n",
      " [0 0 0 0 0 0 0 0 0 0]\n",
      " [0 0 0 0 0 0 0 0 0 0]\n",
      " [0 0 0 0 0 0 0 0 0 0]\n",
      " [0 0 0 0 0 0 0 0 0 0]\n",
      " [0 0 0 0 0 0 0 0 0 0]\n",
      " [0 0 0 0 0 0 0 0 0 0]\n",
      " [0 0 0 0 0 0 0 0 0 0]]\n"
     ]
    }
   ],
   "source": [
    "# example \n",
    "a = np.zeros([8,10],dtype='int')\n",
    "print(\"new array:\\n\", a)"
   ]
  },
  {
   "cell_type": "markdown",
   "metadata": {},
   "source": [
    "### Shape and size of arrays\n",
    "The array `.shape` property tells you how large the array is in each dimension, `.ndim` tells you the number of dimensions, and `.size` tells you the total number of elements in the array. You can access each of the dimensions dim by `.shape[dim]`. Note that for 2D arrays, the dimensions refer to the number of rows (0th dimension) and the number of columns (1st dimension). "
   ]
  },
  {
   "cell_type": "code",
   "execution_count": 3,
   "metadata": {},
   "outputs": [
    {
     "name": "stdout",
     "output_type": "stream",
     "text": [
      "the shape of this array is: (8, 10)\n",
      "there are: 2 dimensions\n",
      "there are 80 total elements\n",
      "the size of dimension 0 is 8\n",
      "the size of dimension 1 is 10\n"
     ]
    }
   ],
   "source": [
    "print(\"the shape of this array is:\", a.shape)\n",
    "print(\"there are:\", a.ndim, \"dimensions\")\n",
    "print(\"there are\", a.size, \"total elements\")\n",
    "\n",
    "for i in range(a.ndim):\n",
    "    print(\"the size of dimension\", i, \"is\", a.shape[i])"
   ]
  },
  {
   "cell_type": "code",
   "execution_count": 4,
   "metadata": {},
   "outputs": [],
   "source": [
    "# Create an 11 by 12 2D array with all ones as the elements and use the above commands to print the size of each\n",
    "# dimension and the total number of elements in the array"
   ]
  },
  {
   "cell_type": "code",
   "execution_count": 5,
   "metadata": {},
   "outputs": [],
   "source": [
    "# Given the 2D array below, report the same features of the array as stated above.\n",
    "\n",
    "A = np.array([\n",
    "       [ 2.,  0.,  0.,  0.,  0.,  0.,  1.,  1.,  1.,  1.],\n",
    "       [ 1.,  1.,  1.,  1.,  1.,  0.,  1.,  1.,  1.,  1.],\n",
    "       [ 1.,  1.,  1.,  1.,  1.,  0.,  0.,  0.,  0.,  1.],\n",
    "       [ 1.,  1.,  1.,  1.,  1.,  1.,  1.,  1.,  0.,  1.],\n",
    "       [ 1.,  1.,  1.,  1.,  1.,  0.,  0.,  0.,  0.,  1.],\n",
    "       [ 0.,  0.,  0.,  0.,  0.,  0.,  1.,  1.,  1.,  1.],\n",
    "       [ 0.,  1.,  1.,  1.,  1.,  1.,  1.,  1.,  1.,  1.],\n",
    "       [ 0.,  1.,  1.,  1.,  1.,  1.,  1.,  1.,  1.,  1.],\n",
    "       [ 0.,  0.,  0.,  0.,  0.,  0.,  0.,  0.,  3.,  1.],\n",
    "       [ 1.,  1.,  1.,  1.,  6.,  1.,  1.,  1.,  1.,  1.]])"
   ]
  },
  {
   "cell_type": "markdown",
   "metadata": {},
   "source": [
    "---\n",
    "## Slicing arrays \n",
    "\n",
    "Slicing arrays allows you to select some subset of the elements in a list or an array to manipulate or copy.  With slicing, there are three values that can be used along each dimension: `start`, `end`, and `step`, separated by colons.  \n",
    "\n",
    "### Here are some examples in 1D:\n",
    "\n",
    "```\n",
    "myarray[start,end]   # items start through end-1\n",
    "myarray[start:]      # items start through the end of the array\n",
    "myarray[:end]        # items from the beginning of the array through end-1\n",
    "myarray[:]           # a copy of the whole array\n",
    "myarray[start,end,step]  # every \"step\" item from start to end-1\n",
    "myarray[::step]      # every \"step\" item over the whole array, starting with the first element.\n",
    "```\n",
    "\n",
    "Note that negative indices count from the end of the array, so `myarray[-1]` is the last element in the array, `myarray[-2]` is the second-to-last element, etc.  You can also reverse the order of the array by starting at the end and counting to the beginning by negative numbers; in other words, `myarray[-1::-1]` starts at the end of the array and goes to the first element by counting down by one each time."
   ]
  },
  {
   "cell_type": "code",
   "execution_count": 6,
   "metadata": {},
   "outputs": [
    {
     "data": {
      "text/plain": [
       "array([0, 1, 2, 3, 4, 5, 6, 7, 8, 9])"
      ]
     },
     "execution_count": 6,
     "metadata": {},
     "output_type": "execute_result"
    }
   ],
   "source": [
    "# create a 1D array with values 0...10\n",
    "c = np.arange(0,10)\n",
    "c\n",
    "\n",
    "# Put your code below; if the above explanation is not enough to help you do the following, feel free to Google it \n",
    "\n",
    "#1. print the whole array\n",
    "\n",
    "#2. print out some elements from the middle of the array\n",
    "\n",
    "#3. print the second element through the second-to-last element\n",
    "\n",
    "#4. print the first half of the array \n",
    "\n",
    "#5. print the second half of the array\n",
    "\n",
    "#6. print every other element from 2-8 (inclusive)\n",
    "\n",
    "#7. print every third element in the array\n",
    "\n",
    "#8. reverse the array"
   ]
  },
  {
   "cell_type": "markdown",
   "metadata": {},
   "source": [
    "### 2D Cases\n",
    "The same sort of technique can be used with a multidimensional array, with `start`, `stop`, and (optionally) `step` specified along each dimension, with the dimensions separated by a comma. The syntax would be:\n",
    "`my2Darray[start1:stop1:step1, start2:stop2:step2]`\n",
    "with the same rules as above. You can also combine slicing with fixed indices to get some or all elements from a single row or column of your array.\n",
    "For example, array `b` created above is a $3\\times 3$ array with the values 1–9 stored in it. We can do several different things:\n",
    "```\n",
    "b[0,:]     # get the first row\n",
    "b[:,2]     # get the third column\n",
    "b[1,::2]   # get every other element of the first row, starting at element 0\n",
    "b[:2,:2]   # get a square array containing the first two elements along each dimension\n",
    "b[-2:,-2:] # get a square array containing the last two elements along each dimension\n",
    "b[::2,::2] # get a square array of every other element along each dimension\n",
    "b[-1::-1,-1::-1]  # original-size array, but reversed along both dimensions\n",
    "```"
   ]
  },
  {
   "cell_type": "code",
   "execution_count": 7,
   "metadata": {},
   "outputs": [
    {
     "data": {
      "text/plain": [
       "array([[1, 2, 3],\n",
       "       [4, 5, 6],\n",
       "       [7, 8, 9]])"
      ]
     },
     "execution_count": 7,
     "metadata": {},
     "output_type": "execute_result"
    }
   ],
   "source": [
    "# create a 2D array with values 0...10\n",
    "b = np.array([[1,2,3],[4,5,6],[7,8,9]])\n",
    "b\n",
    "\n",
    "# Put your code below; if the above explaination is not enough to help you do the following, feel free to ask!\n",
    "\n",
    "# print the first row\n",
    "\n",
    "# print the third column\n",
    "\n",
    "# print every other element of the second row, starting with element 0\n",
    "\n",
    "# print square array of first two elements along each dimension\n",
    "\n",
    "# print reversed array"
   ]
  },
  {
   "cell_type": "markdown",
   "metadata": {},
   "source": [
    "# Part 2: Von Neumann Neighborhood\n",
    "\n",
    "A common tool that is used in agent-based models is the concept of a \"neighborhood\". We've worked with two in the past, namely, the Von Neumann and Moore neighborhoods. We will be revisiting the Von Neumann neighborhood in this notebook."
   ]
  },
  {
   "cell_type": "markdown",
   "metadata": {},
   "source": [
    "## Modified Von Neumann Code\n",
    "\n",
    "In the below function, we have implemented the Von Neumann neighborhood with some minor changes. These changes appear in the form of a boolean logical variable called `found`. Notice that there is an incomplete doc-string (the portion in red quotes) immediately after the function definition. For this part of the notebook, complete the comments in the doc-string by writing a few lines describing the objective of this function, the inputs and outputs. "
   ]
  },
  {
   "cell_type": "code",
   "execution_count": 8,
   "metadata": {},
   "outputs": [],
   "source": [
    "def modified_von_neumann(position, world, agent_state, found = False):\n",
    "    \n",
    "    '''\n",
    "        Objective: The purpose of this funciton it to look around a current location\n",
    "                   and determine if an exit has been found\n",
    "                   \n",
    "        Inputs: position in world, world, status of desired agent, found boolean (false)\n",
    "        \n",
    "        Outputs: Location of desired agent, found boolean (true)\n",
    "    '''\n",
    "    \n",
    "    # Current Position\n",
    "    i = position[0]\n",
    "    j = position[1]\n",
    "\n",
    "    # Set a dummy value for the agent location\n",
    "    agent_location = [-1,-1]\n",
    "    \n",
    "    # \n",
    "    if i > 0 and found == False: \n",
    "        if world[i-1,j] == agent_state:\n",
    "            agent_location = [i-1,j]\n",
    "            found = True\n",
    "            \n",
    "    if i < world.shape[1] - 1 and found == False:\n",
    "        if world[i+1,j] == agent_state:\n",
    "            agent_location = [i+1,j]\n",
    "            found = True\n",
    "\n",
    "    if j > 0 and found == False:\n",
    "        if world[i,j-1] == agent_state:\n",
    "            agent_location = [i,j-1]\n",
    "            found = True\n",
    "            \n",
    "    if j < world.shape[0] - 1 and found == False:\n",
    "        if world[i,j+1] == agent_state:\n",
    "            agent_location = [i,j+1]\n",
    "            found = True\n",
    "                \n",
    "    return agent_location, found"
   ]
  },
  {
   "cell_type": "markdown",
   "metadata": {},
   "source": [
    "---"
   ]
  },
  {
   "cell_type": "markdown",
   "metadata": {},
   "source": [
    "# Part 3: Quest for the Golden Idol\n",
    "\n",
    "In part 3, we will work with 2D arrays by means of example. Refer to the content above if you need to review some concepts.\n",
    "\n",
    "## Introduction to the Problem\n",
    "\n",
    "Indiana Jones (aka Indy) is a well-known treasure hunter. In his most recent quest, he stumbles across a labyrinth in which he knows there is a golden idol at the end. In orfer to get to the labyrinth, he needs to swim through shark **and** crocodile infested waters (don't ask how that is possible). Doing so has rendered any supplies to make a torch useless. Therefore, Indy is traveling through the labyrinth in complete darkness.\n",
    "\n",
    "You goal is to write some functions that moves Indy through the labyrinth and checks to see if he has come across the priceless idol.\n",
    "\n",
    "In the cell below, we initialize the \"labryinth\" that we will be using for this example. We also make use of a function that was used in a previous In-Class assignment (Day-12 In-Class) - the plotgrid function"
   ]
  },
  {
   "cell_type": "code",
   "execution_count": 9,
   "metadata": {},
   "outputs": [],
   "source": [
    "## TO BE REMOVED\n",
    "\n",
    "# # Initialize Board\n",
    "\n",
    "# # Specify size of one side of NxN board\n",
    "# N = 10\n",
    "\n",
    "# # Initialize array of NxN\n",
    "# labyrinth = np.zeros([N,N])\n",
    "\n",
    "# # Output Result\n",
    "# labyrinth"
   ]
  },
  {
   "cell_type": "code",
   "execution_count": 10,
   "metadata": {},
   "outputs": [],
   "source": [
    "## TO BE REMOVED\n",
    "\n",
    "# # Create Walls\n",
    "# labyrinth[0:2,-4:] = 1\n",
    "# labyrinth[1:5,:-5] = 1\n",
    "# labyrinth[1:3,4] = 1\n",
    "# labyrinth[3,4:8] = 1\n",
    "# labyrinth[:,-1] = 1\n",
    "# labyrinth[6:8,1::] = 1\n",
    "# labyrinth[6:8,1::] = 1\n",
    "# labyrinth[-1,:4] = 1\n",
    "# labyrinth[-1,5::] = 1\n",
    "# labyrinth[5,6::] = 1\n",
    "\n",
    "# # Place idol\n",
    "# labyrinth[-2,-2] = 3\n",
    "\n",
    "# # Starting point\n",
    "# labyrinth[0,0] = 2\n",
    "\n",
    "# # Ending point\n",
    "# labyrinth[-1,4] = 4\n",
    "\n",
    "# labyrinth"
   ]
  },
  {
   "cell_type": "code",
   "execution_count": 11,
   "metadata": {},
   "outputs": [],
   "source": [
    "# Initialize the labyrinth\n",
    "\n",
    "labyrinth = np.array([\n",
    "       [ 2.,  0.,  0.,  0.,  0.,  0.,  1.,  1.,  1.,  1.],\n",
    "       [ 1.,  1.,  1.,  1.,  1.,  0.,  1.,  1.,  1.,  1.],\n",
    "       [ 1.,  1.,  1.,  1.,  1.,  0.,  0.,  0.,  0.,  1.],\n",
    "       [ 1.,  1.,  1.,  1.,  1.,  1.,  1.,  1.,  0.,  1.],\n",
    "       [ 1.,  1.,  1.,  1.,  1.,  0.,  0.,  0.,  0.,  1.],\n",
    "       [ 0.,  0.,  0.,  0.,  0.,  0.,  1.,  1.,  1.,  1.],\n",
    "       [ 0.,  1.,  1.,  1.,  1.,  1.,  1.,  1.,  1.,  1.],\n",
    "       [ 0.,  1.,  1.,  1.,  1.,  1.,  1.,  1.,  1.,  1.],\n",
    "       [ 0.,  0.,  0.,  0.,  0.,  0.,  0.,  0.,  3.,  1.],\n",
    "       [ 1.,  1.,  1.,  1.,  6.,  1.,  1.,  1.,  1.,  1.]])"
   ]
  },
  {
   "cell_type": "code",
   "execution_count": 12,
   "metadata": {},
   "outputs": [],
   "source": [
    "# This is the function that was used for the forest fire ABM with some modifications.\n",
    "def plotgrid(myarray):\n",
    "    \n",
    "    # \n",
    "    x_range = np.linspace(0, myarray.shape[0], myarray.shape[0]) \n",
    "    y_range = np.linspace(0, -myarray.shape[1], myarray.shape[1])\n",
    "    \n",
    "    # \n",
    "    x_indices, y_indices = np.meshgrid(x_range, y_range)\n",
    "    \n",
    "    \n",
    "    # Specify open locations\n",
    "    path_x = x_indices[myarray == 0];   \n",
    "    path_y = y_indices[myarray == 0];\n",
    "    \n",
    "    # Specify path when searching for idol\n",
    "    start_x = x_indices[myarray == 2];\n",
    "    start_y = y_indices[myarray == 2];\n",
    "    \n",
    "    # Specify wall locations\n",
    "    wall_x = x_indices[myarray == 1];   \n",
    "    wall_y = y_indices[myarray == 1]; \n",
    "    \n",
    "    # Specify idol location\n",
    "    idol_x = x_indices[myarray == 3];\n",
    "    idol_y = y_indices[myarray == 3];\n",
    "    \n",
    "    # Specify indicator for collecting idol\n",
    "    taken_idol_x = x_indices[myarray == 4];\n",
    "    taken_idol_y = y_indices[myarray == 4];\n",
    "    \n",
    "        \n",
    "    # Specify Path whindicator when leaving\n",
    "    get_out_x = x_indices[myarray == 5];\n",
    "    get_out_y = y_indices[myarray == 5];\n",
    "    \n",
    "    # Specify ending location\n",
    "    end_x = x_indices[myarray == 6];\n",
    "    end_y = y_indices[myarray == 6];\n",
    "\n",
    "    \n",
    "    \n",
    "    # \n",
    "    plt.plot(path_x,path_y, 'ws',markersize=10, label = \"Open space = 0\")  \n",
    "    plt.plot(wall_x,wall_y, 'ks',markersize=10, label = \"wall = 1\") \n",
    "    plt.plot(start_x,start_y, 'bx',markersize=10, label = \"Path of Indiana Jones = 2\")  \n",
    "    plt.plot(idol_x,idol_y, 'yd',markersize=10, label = 'Idol = 3')\n",
    "    plt.plot(taken_idol_x,taken_idol_y, 'kd',markersize=10, label = 'Removed Idol = 4')\n",
    "    plt.plot(get_out_x,get_out_y, 'yx',markersize=10, label = 'Return Path = 5')\n",
    "    plt.plot(end_x,end_y, 'rs',markersize=10, label = 'Exit = 6')\n",
    "    plt.legend(bbox_to_anchor=(1.1, 1.04))\n",
    "\n",
    "\n",
    "    # \n",
    "    plt.tick_params(axis='both', which='both',\n",
    "                    bottom='off', top='off', left='off', right='off',\n",
    "                    labelbottom='off', labelleft='off')"
   ]
  },
  {
   "cell_type": "markdown",
   "metadata": {},
   "source": [
    "### Viewing the labryinth\n",
    "Now that we've initialized the labryinth and have a function that displays it, let's see what it looks like. Run the cell below to view the Labryinth."
   ]
  },
  {
   "cell_type": "code",
   "execution_count": 13,
   "metadata": {},
   "outputs": [
    {
     "data": {
      "image/png": "[encoded data removed]",
      "text/plain": [
       "<matplotlib.figure.Figure at 0x112d35a20>"
      ]
     },
     "metadata": {},
     "output_type": "display_data"
    }
   ],
   "source": [
    "# Display labyrinth\n",
    "plotgrid(labyrinth)"
   ]
  },
  {
   "cell_type": "markdown",
   "metadata": {},
   "source": [
    "### Understanding the above plot\n",
    "\n",
    "The different locations on the map are designated with various numerical values which can be seen in the legend to the right of the plot. These values will be used when we move Indy through the labyrinth. For example, we will want to use the von Neumann neighborhood to determine what the legal moves are for Indy (i.e. open spaces). We also will want to check to see if Indy has found the idol by searching for the value of 3."
   ]
  },
  {
   "cell_type": "code",
   "execution_count": 14,
   "metadata": {},
   "outputs": [],
   "source": [
    "# In this cell, we initialize some variables\n",
    "\n",
    "# Starting point of Indiana Jones\n",
    "indy_position = [0,0]"
   ]
  },
  {
   "cell_type": "markdown",
   "metadata": {},
   "source": [
    "# Part 3a: Moving through the labyrinth\n",
    "\n",
    "In order to start his search, Indy needs to move throgh the labyrinth. Since he cannot see, he needs to look around him in (using a Von Neumann Neighborhood) to figure our if he has found the idol or if he has run into a wall. In the case that Indy does not find the idol, he must continue through the labyrinth until he finds it.\n",
    "\n",
    "**Goal**: The goals for this function are as follows:\n",
    "\n",
    "* Before updating the position of Indy, check to see if the spot he will move has the idol. If it does, replace the idol symbol with the \"taken idol symbol\" and move Indy to that location and set the found_idol boolean to `True`.\n",
    "\n",
    "* If the idol has been found, store its location which will be returned from the function.\n",
    "\n",
    "* If the idol is not there, update the position of Indy based on the open spaces making sure to avoid the walls (look at the legend to see how each are defined).\n",
    " \n",
    "* Once the idol has been found, Indy should stop moving.\n",
    "\n",
    "The \"up\" direction of the neighborhhod check in the \"look_for_idol\" function has been provided. See if you can understand what each piece in that code is doing with respect to the above bullet points. Then using a similar approach, add the code needed to have it work for all directions around Indy in the remaining directions (i.e. down left, and right)."
   ]
  },
  {
   "cell_type": "code",
   "execution_count": 15,
   "metadata": {},
   "outputs": [],
   "source": [
    "\n",
    "def look_for_idol(indy_position, labyrinth, idol_loc = [-1,-1], found_idol=False):\n",
    "    \n",
    "    \"\"\"\n",
    "        Objective: This function looks around Indy to determine if he has found the \n",
    "                   idol or needs to move further in the labyrinth\n",
    "                   \n",
    "        Inputs: current position, the board, idol_location, boolean for finding idol\n",
    "        \n",
    "        Outputs: New position, found_idol boolean, location of idol\n",
    "    \"\"\"\n",
    "\n",
    "    # Specify current location of Indy\n",
    "    i = indy_position[0]\n",
    "    j = indy_position[1]\n",
    "    \n",
    "    # Check above Indy if not in 0th row\n",
    "    if i > 0 and found_idol == False: \n",
    "        \n",
    "        # First check to see if idol is in that spot\n",
    "        if labyrinth[i-1, j] == 3:\n",
    "            found_idol = True\n",
    "            idol_loc = [i-1,j]\n",
    "            indy_position = idol_loc\n",
    "\n",
    "        # If idol is not found move Indy if spot is open\n",
    "        elif labyrinth[i-1, j] == 0:\n",
    "            indy_position = [i-1,j]\n",
    "            labyrinth[i-1,j] = 2\n",
    "    \n",
    "    # Check beneath Indy if not in last row        \n",
    "    if i < labyrinth.shape[0] - 1 and found_idol == False:\n",
    "        \n",
    "        # Check to see if idol is found\n",
    "        if labyrinth[i+1, j] == 3:\n",
    "            found_idol = True\n",
    "            idol_loc = [i+1,j]\n",
    "            indy_position = idol_loc\n",
    "        \n",
    "        # Move Indy if spot is open\n",
    "        elif labyrinth[i+1, j] == 0:\n",
    "            indy_position = [i+1, j]\n",
    "            labyrinth[i+1,j] = 2\n",
    "    \n",
    "    # Check to the left of indy if not in first column\n",
    "    if j > 0 and found_idol == False:\n",
    "        \n",
    "        # Check to see if Idol is found\n",
    "        if labyrinth[i, j-1] == 3:\n",
    "            found_idol = True\n",
    "            idol_loc = [i,j-1]\n",
    "            indy_position = idol_loc\n",
    "        \n",
    "        # Move Indy if spot is open\n",
    "        elif labyrinth[i, j-1] == 0:\n",
    "            indy_position = [i,j-1]\n",
    "            labyrinth[i,j-1] = 2\n",
    "\n",
    "    # Check to the right of Indy if not in last column\n",
    "    if j < labyrinth.shape[1] - 1 and found_idol == False:\n",
    "        \n",
    "        # Check to see if idol is found\n",
    "        if labyrinth[i, j+1] == 3:\n",
    "            found_idol = True\n",
    "            idol_loc = [i,j+1]\n",
    "            indy_position = idol_loc\n",
    "            \n",
    "        # Move Indy if spot is open\n",
    "        elif labyrinth[i, j+1] == 0:\n",
    "            indy_position = [i,j+1]\n",
    "            labyrinth[i,j+1] = 2\n",
    "\n",
    "\n",
    "    return indy_position, found_idol, idol_loc"
   ]
  },
  {
   "cell_type": "code",
   "execution_count": 16,
   "metadata": {},
   "outputs": [
    {
     "data": {
      "image/png": "[encoded data removed]",
      "text/plain": [
       "<matplotlib.figure.Figure at 0x1187b87b8>"
      ]
     },
     "metadata": {},
     "output_type": "display_data"
    }
   ],
   "source": [
    "# Test your above code by starting Indy at [0,0] and then calling your above function\n",
    "# You should then outubut your results to make sure it is doing what it should\n",
    "\n",
    "# Place your initilaization and function call here\n",
    "indy_position , found_idol, idol_loc = look_for_idol(indy_position, labyrinth)\n",
    "plotgrid(labyrinth)\n",
    "\n",
    "\n",
    "# Execute this cell multiple times to verify it works"
   ]
  },
  {
   "cell_type": "markdown",
   "metadata": {},
   "source": [
    "# Part 3b: Repeating the process\n",
    "\n",
    "Your goal here is to write a few lines of code that move Indy until the idol has been found. Once Indy has found the idol, remember to replace it with the correct marker (see legend).\n",
    "\n",
    "Note that the above funciton returns a boolean logical that is `True` when the idol has been found which you can use to help you accomplish this task. Try using a while loop here. For the while loop, include a maximum number of iterations ($i$ = 100) to avoid an infinite loop."
   ]
  },
  {
   "cell_type": "code",
   "execution_count": 17,
   "metadata": {},
   "outputs": [],
   "source": [
    "## TO BE REMOVED\n",
    "i = 0\n",
    "# Iterate until idol is found\n",
    "while found_idol == False:\n",
    "    indy_position , found_idol, idol_loc = look_for_idol(indy_position, labyrinth)\n",
    "    if found_idol == True:\n",
    "        labyrinth[idol_loc[0],idol_loc[1]] = 4\n",
    "        \n",
    "    i = 100"
   ]
  },
  {
   "cell_type": "code",
   "execution_count": 18,
   "metadata": {},
   "outputs": [
    {
     "data": {
      "image/png": "[encoded data removed]",
      "text/plain": [
       "<matplotlib.figure.Figure at 0x1187b8d30>"
      ]
     },
     "metadata": {},
     "output_type": "display_data"
    }
   ],
   "source": [
    "# In this cell, plot the labryinth to see that the path taken was correct.\n",
    "plotgrid(labyrinth)"
   ]
  },
  {
   "cell_type": "markdown",
   "metadata": {},
   "source": [
    "# Part 3c: Getting out\n",
    "\n",
    "Indy has a good memory and remembers the way that he came in. However as he grabs the idol he hears a large boulder close off his initial entrance. Indy now needs to retrace his steps and see if he can find a way out. Luckily for him, by what he can hear, the boulder crashing down seems to have opened up an escape route nearby. Indy must now retrace his steps and search around him at each step for this escape route.\n",
    "\n",
    "**Goal**: There are three things you need to do here:\n",
    "\n",
    "* Update the position of Indy based on his previous route (check the legend to see how this is defined)\n",
    "* After you Move Indy, update the value of Indy's position to be the value that corresponds to \"Return Path\" (see legend)\n",
    "* After Indy has been moved and the value updated, check around him to see if the exit is around him (see legend)\n",
    "\n",
    "For the third bullet point, you can use the function from part 2."
   ]
  },
  {
   "cell_type": "code",
   "execution_count": 19,
   "metadata": {},
   "outputs": [],
   "source": [
    "def get_out(indy_position):\n",
    "    \n",
    "    '''\n",
    "        Objetivec: This function moves Indy from his current location back along his route\n",
    "                   and checks to see if an escape route is found\n",
    "                   \n",
    "        Inputs: Current position of Indy\n",
    "        \n",
    "        Outputs: New Position of Indy\n",
    "    '''\n",
    "    \n",
    "    # Get current position of Indy\n",
    "    i = indy_position[0]\n",
    "    j = indy_position[1]\n",
    "    \n",
    "    # Check to above Indy for back tracking\n",
    "    if i > 0:   \n",
    "        if labyrinth[i-1, j] == 2:\n",
    "            indy_position = [i-1,j]\n",
    "            labyrinth[i-1,j] = 5\n",
    "            \n",
    "    # Check to the under Indy\n",
    "    if i < labyrinth.shape[1] - 1:\n",
    "        if labyrinth[i+1, j] == 2:\n",
    "            indy_position = [i+1, j]\n",
    "            labyrinth[i+1,j] = 5   \n",
    "            \n",
    "    # Check to the left of Indy\n",
    "    if j > 0:\n",
    "        if labyrinth[i, j-1] == 2:\n",
    "            indy_position = [i,j-1]\n",
    "            labyrinth[i,j-1] = 5\n",
    "            \n",
    "    # Check to the right of Indy\n",
    "    if j < labyrinth.shape[0] - 1:       \n",
    "        if labyrinth[i, j+1] == 2:\n",
    "            indy_position = [i,j+1]\n",
    "            labyrinth[i,j+1] = 5   \n",
    "            \n",
    "    return indy_position"
   ]
  },
  {
   "cell_type": "code",
   "execution_count": 20,
   "metadata": {},
   "outputs": [
    {
     "data": {
      "image/png": "[encoded data removed]",
      "text/plain": [
       "<matplotlib.figure.Figure at 0x11bd15080>"
      ]
     },
     "metadata": {},
     "output_type": "display_data"
    }
   ],
   "source": [
    "# Test your above code by calling your above function and verifying that the correct move is made. \n",
    "# When Indy moves, the position he is at should now be a golden 'x'.\n",
    "\n",
    "# Execute this cell multiple times to verify it works\n",
    "\n",
    "# Place your function call below\n",
    "indy_position = get_out(indy_position)\n",
    "exit_location, found = modified_von_neumann(indy_position, labyrinth, 6)\n",
    "if found == True:\n",
    "    labyrinth[exit_location[0],exit_location[1]] = 5\n",
    "\n",
    "plotgrid(labyrinth)\n"
   ]
  },
  {
   "cell_type": "markdown",
   "metadata": {},
   "source": [
    "# Part 3d: Repeating the process\n",
    "\n",
    "Similar to part 3b, write a loop that repeats the above function call until Indy gets out. Remember to update the exit location to have the correct marker (\"Return Path\"). Include a maximum number of while loop iterations ($i$ = 100) to make sure that you avoid an infinite loop.\n"
   ]
  },
  {
   "cell_type": "code",
   "execution_count": 21,
   "metadata": {},
   "outputs": [],
   "source": [
    "# TO BE REMOVED\n",
    "found = False\n",
    "i = 0\n",
    "imax = 100\n",
    "while found == False and i < imax:\n",
    "    indy_position = get_out(indy_position)\n",
    "    exit_location, found = modified_von_neumann(indy_position, labyrinth, 6)\n",
    "    if found == True:\n",
    "        indy_position = [exit_location[0], exit_location[1]]\n",
    "        labyrinth[exit_location[0],exit_location[1]] = 5\n",
    "    i += 1"
   ]
  },
  {
   "cell_type": "code",
   "execution_count": 22,
   "metadata": {},
   "outputs": [
    {
     "data": {
      "image/png": "[encoded data removed]",
      "text/plain": [
       "<matplotlib.figure.Figure at 0x11bd038d0>"
      ]
     },
     "metadata": {},
     "output_type": "display_data"
    }
   ],
   "source": [
    "# Plot the labryinth again to see that the path Indy took to get out is also correct.\n",
    "plotgrid(labyrinth)"
   ]
  },
  {
   "cell_type": "code",
   "execution_count": null,
   "metadata": {},
   "outputs": [],
   "source": []
  }
 ],
 "metadata": {
  "kernelspec": {
   "display_name": "Python 3",
   "language": "python",
   "name": "python3"
  },
  "language_info": {
   "codemirror_mode": {
    "name": "ipython",
    "version": 3
   },
   "file_extension": ".py",
   "mimetype": "text/x-python",
   "name": "python",
   "nbconvert_exporter": "python",
   "pygments_lexer": "ipython3",
   "version": "3.6.4"
  }
 },
 "nbformat": 4,
 "nbformat_minor": 2
}
